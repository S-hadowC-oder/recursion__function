{
 "cells": [
  {
   "cell_type": "code",
   "execution_count": 1,
   "id": "774bf147-6910-4b30-8bac-c55e57fb336d",
   "metadata": {},
   "outputs": [
    {
     "data": {
      "text/plain": [
       "105"
      ]
     },
     "execution_count": 1,
     "metadata": {},
     "output_type": "execute_result"
    }
   ],
   "source": [
    "# 1. Find the val%e of T(2) for the rec%rrence relation T(n) = 3T(n-1) + 12n, given that T(0)=5.\n",
    "def T(n):\n",
    "    if n == 0:\n",
    "        return 5\n",
    "    return 3 * T(n - 1) + 12 * n\n",
    "\n",
    "# Calculate T(2)\n",
    "result_T2 = T(2)\n",
    "result_T2\n"
   ]
  },
  {
   "cell_type": "code",
   "execution_count": 3,
   "id": "06cd2ce1-3538-4cc8-bd38-0edfb05ca75a",
   "metadata": {},
   "outputs": [
    {
     "name": "stdout",
     "output_type": "stream",
     "text": [
      "T_a(5, 1, 0): 5\n",
      "T_b(8): 32\n",
      "T_c(8, 1): 15\n",
      "T_d(8, 1): 4\n"
     ]
    }
   ],
   "source": [
    "# 2. Given a rec%rrence relation, solve it %sing the s%bstit%tion method:\n",
    "# a. T(n) = T(n-1) + c\n",
    "# b. T(n) = 2T(n/2) + n\n",
    "# c. T(n) = 2T(n/2) + c\n",
    "# d. T(n) = T(n/2) + c\n",
    "\n",
    "def T_a(n, c, T0):\n",
    "    if n == 0:\n",
    "        return T0\n",
    "    return T_a(n-1, c, T0) + c\n",
    "\n",
    "def T_b(n):\n",
    "    if n == 1:\n",
    "        return 1\n",
    "    return 2 * T_b(n // 2) + n\n",
    "\n",
    "def T_c(n, c):\n",
    "    if n == 1:\n",
    "        return 1\n",
    "    return 2 * T_c(n // 2, c) + c\n",
    "\n",
    "def T_d(n, c):\n",
    "    if n == 1:\n",
    "        return 1\n",
    "    return T_d(n // 2, c) + c\n",
    "\n",
    "# Testing the solutions\n",
    "\n",
    "# (a) T(n) = T(n-1) + c\n",
    "print(\"T_a(5, 1, 0):\", T_a(5, 1, 0))  # should be 5\n",
    "\n",
    "# (b) T(n) = 2T(n/2) + n\n",
    "print(\"T_b(8):\", T_b(8))  # should be 36 for T(8)\n",
    "\n",
    "# (c) T(n) = 2T(n/2) + c\n",
    "print(\"T_c(8, 1):\", T_c(8, 1))  # should be 15 for T(8)\n",
    "\n",
    "# (d) T(n) = T(n/2) + c\n",
    "print(\"T_d(8, 1):\", T_d(8, 1))  # should be 3 for T(8)\n"
   ]
  },
  {
   "cell_type": "code",
   "execution_count": 4,
   "id": "26a6664e-6df6-41a4-b083-604a0adb5e32",
   "metadata": {},
   "outputs": [
    {
     "name": "stdout",
     "output_type": "stream",
     "text": [
      "T_a(4): 31\n"
     ]
    }
   ],
   "source": [
    "# 3. Given a rec%rrence relation, solve it %sing the rec%rsive tree approach:\n",
    "# a. T(n) = 2T(n-1) +1\n",
    "def T_a(n):\n",
    "    if n == 0:\n",
    "        return 1  # Base case\n",
    "    return 2 * T_a(n - 1) + 1\n",
    "\n",
    "# Example usage:\n",
    "print(\"T_a(4):\", T_a(4))  # Output will be 31\n",
    "\n",
    "\n"
   ]
  },
  {
   "cell_type": "code",
   "execution_count": 5,
   "id": "35989455-f55e-4869-b61a-15cb0787119e",
   "metadata": {},
   "outputs": [
    {
     "name": "stdout",
     "output_type": "stream",
     "text": [
      "T_b(8): 32\n"
     ]
    }
   ],
   "source": [
    "# b. T(n) = 2T(n/2) + n\n",
    "def T_b(n):\n",
    "    if n <= 1:\n",
    "        return 1  # Base case\n",
    "    return 2 * T_b(n // 2) + n\n",
    "\n",
    "# Example usage:\n",
    "print(\"T_b(8):\", T_b(8))  # Output will be 28\n"
   ]
  },
  {
   "cell_type": "code",
   "execution_count": null,
   "id": "e2ac833e-2f26-4e4b-a7bb-fcbd1d1d487d",
   "metadata": {},
   "outputs": [],
   "source": []
  }
 ],
 "metadata": {
  "kernelspec": {
   "display_name": "Python 3 (ipykernel)",
   "language": "python",
   "name": "python3"
  },
  "language_info": {
   "codemirror_mode": {
    "name": "ipython",
    "version": 3
   },
   "file_extension": ".py",
   "mimetype": "text/x-python",
   "name": "python",
   "nbconvert_exporter": "python",
   "pygments_lexer": "ipython3",
   "version": "3.10.8"
  }
 },
 "nbformat": 4,
 "nbformat_minor": 5
}
